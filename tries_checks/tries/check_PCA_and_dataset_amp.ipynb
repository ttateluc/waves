{
 "cells": [
  {
   "cell_type": "markdown",
   "metadata": {},
   "source": [
    "#\tSome tries for PCA and dataset quality"
   ]
  },
  {
   "cell_type": "code",
   "execution_count": 1,
   "metadata": {},
   "outputs": [],
   "source": [
    "import sys\n",
    "import lalsimulation as lalsim\n",
    "import lal\n",
    "sys.path.insert(1, '/home/stefano/Desktop/Stefano/scuola/uni/tesi_magistrale/code/routines')\n",
    "from GW_helper import *\n",
    "import matplotlib.pyplot as plt\n",
    "from ML_routines import *"
   ]
  },
  {
   "cell_type": "code",
   "execution_count": 2,
   "metadata": {},
   "outputs": [
    {
     "ename": "OSError",
     "evalue": "../datasets/GW_TD_dataset.dat not found.",
     "output_type": "error",
     "traceback": [
      "\u001b[0;31m---------------------------------------------------------------------------\u001b[0m",
      "\u001b[0;31mOSError\u001b[0m                                   Traceback (most recent call last)",
      "\u001b[0;32m<ipython-input-2-fc65ae5e00b2>\u001b[0m in \u001b[0;36m<module>\u001b[0;34m\u001b[0m\n\u001b[1;32m      1\u001b[0m \u001b[0;31m#loading dataset and splitting\u001b[0m\u001b[0;34m\u001b[0m\u001b[0;34m\u001b[0m\u001b[0;34m\u001b[0m\u001b[0m\n\u001b[0;32m----> 2\u001b[0;31m \u001b[0mtheta_vector\u001b[0m\u001b[0;34m,\u001b[0m \u001b[0mamp_dataset\u001b[0m\u001b[0;34m,\u001b[0m \u001b[0mph_dataset\u001b[0m\u001b[0;34m,\u001b[0m \u001b[0mfrequencies\u001b[0m \u001b[0;34m=\u001b[0m \u001b[0mload_dataset\u001b[0m\u001b[0;34m(\u001b[0m\u001b[0;34m\"../datasets/GW_TD_dataset.dat\"\u001b[0m\u001b[0;34m,\u001b[0m \u001b[0mshuffle\u001b[0m\u001b[0;34m=\u001b[0m\u001b[0;32mFalse\u001b[0m\u001b[0;34m,\u001b[0m \u001b[0mN_grid\u001b[0m \u001b[0;34m=\u001b[0m \u001b[0;32mNone\u001b[0m\u001b[0;34m)\u001b[0m \u001b[0;31m#loading dataset\u001b[0m\u001b[0;34m\u001b[0m\u001b[0;34m\u001b[0m\u001b[0m\n\u001b[0m\u001b[1;32m      3\u001b[0m \u001b[0;34m\u001b[0m\u001b[0m\n\u001b[1;32m      4\u001b[0m \u001b[0mtrain_frac\u001b[0m \u001b[0;34m=\u001b[0m \u001b[0;36m.8\u001b[0m\u001b[0;34m\u001b[0m\u001b[0;34m\u001b[0m\u001b[0m\n\u001b[1;32m      5\u001b[0m \u001b[0mtrain_theta\u001b[0m\u001b[0;34m,\u001b[0m \u001b[0mtest_theta\u001b[0m\u001b[0;34m,\u001b[0m \u001b[0mtrain_amp\u001b[0m\u001b[0;34m,\u001b[0m \u001b[0mtest_amp\u001b[0m \u001b[0;34m=\u001b[0m \u001b[0mmake_set_split\u001b[0m\u001b[0;34m(\u001b[0m\u001b[0mtheta_vector\u001b[0m\u001b[0;34m,\u001b[0m \u001b[0mamp_dataset\u001b[0m\u001b[0;34m,\u001b[0m \u001b[0mtrain_frac\u001b[0m\u001b[0;34m,\u001b[0m \u001b[0;36m1e-21\u001b[0m\u001b[0;34m)\u001b[0m\u001b[0;34m\u001b[0m\u001b[0;34m\u001b[0m\u001b[0m\n",
      "\u001b[0;32m~/Desktop/Stefano/scuola/uni/tesi_magistrale/code/routines/GW_helper.py\u001b[0m in \u001b[0;36mload_dataset\u001b[0;34m(filename, N_data, N_grid, shuffle)\u001b[0m\n\u001b[1;32m    469\u001b[0m         \u001b[0;32mif\u001b[0m \u001b[0mN_data\u001b[0m \u001b[0;32mis\u001b[0m \u001b[0;32mnot\u001b[0m \u001b[0;32mNone\u001b[0m\u001b[0;34m:\u001b[0m\u001b[0;34m\u001b[0m\u001b[0;34m\u001b[0m\u001b[0m\n\u001b[1;32m    470\u001b[0m                 \u001b[0mN_data\u001b[0m \u001b[0;34m+=\u001b[0m \u001b[0;36m1\u001b[0m\u001b[0;34m\u001b[0m\u001b[0;34m\u001b[0m\u001b[0m\n\u001b[0;32m--> 471\u001b[0;31m         \u001b[0mdata\u001b[0m \u001b[0;34m=\u001b[0m \u001b[0mnp\u001b[0m\u001b[0;34m.\u001b[0m\u001b[0mloadtxt\u001b[0m\u001b[0;34m(\u001b[0m\u001b[0mfilename\u001b[0m\u001b[0;34m,\u001b[0m \u001b[0mmax_rows\u001b[0m \u001b[0;34m=\u001b[0m \u001b[0mN_data\u001b[0m\u001b[0;34m)\u001b[0m\u001b[0;34m\u001b[0m\u001b[0;34m\u001b[0m\u001b[0m\n\u001b[0m\u001b[1;32m    472\u001b[0m         \u001b[0mN\u001b[0m \u001b[0;34m=\u001b[0m \u001b[0mdata\u001b[0m\u001b[0;34m.\u001b[0m\u001b[0mshape\u001b[0m\u001b[0;34m[\u001b[0m\u001b[0;36m0\u001b[0m\u001b[0;34m]\u001b[0m\u001b[0;34m\u001b[0m\u001b[0;34m\u001b[0m\u001b[0m\n\u001b[1;32m    473\u001b[0m         \u001b[0mK\u001b[0m \u001b[0;34m=\u001b[0m \u001b[0mint\u001b[0m\u001b[0;34m(\u001b[0m\u001b[0;34m(\u001b[0m\u001b[0mdata\u001b[0m\u001b[0;34m.\u001b[0m\u001b[0mshape\u001b[0m\u001b[0;34m[\u001b[0m\u001b[0;36m1\u001b[0m\u001b[0;34m]\u001b[0m\u001b[0;34m-\u001b[0m\u001b[0;36m3\u001b[0m\u001b[0;34m)\u001b[0m\u001b[0;34m/\u001b[0m\u001b[0;36m2\u001b[0m\u001b[0;34m)\u001b[0m\u001b[0;34m\u001b[0m\u001b[0;34m\u001b[0m\u001b[0m\n",
      "\u001b[0;32m~/anaconda3/envs/stefano_env/lib/python3.7/site-packages/numpy/lib/npyio.py\u001b[0m in \u001b[0;36mloadtxt\u001b[0;34m(fname, dtype, comments, delimiter, converters, skiprows, usecols, unpack, ndmin, encoding, max_rows)\u001b[0m\n\u001b[1;32m    960\u001b[0m             \u001b[0mfname\u001b[0m \u001b[0;34m=\u001b[0m \u001b[0mos_fspath\u001b[0m\u001b[0;34m(\u001b[0m\u001b[0mfname\u001b[0m\u001b[0;34m)\u001b[0m\u001b[0;34m\u001b[0m\u001b[0;34m\u001b[0m\u001b[0m\n\u001b[1;32m    961\u001b[0m         \u001b[0;32mif\u001b[0m \u001b[0m_is_string_like\u001b[0m\u001b[0;34m(\u001b[0m\u001b[0mfname\u001b[0m\u001b[0;34m)\u001b[0m\u001b[0;34m:\u001b[0m\u001b[0;34m\u001b[0m\u001b[0;34m\u001b[0m\u001b[0m\n\u001b[0;32m--> 962\u001b[0;31m             \u001b[0mfh\u001b[0m \u001b[0;34m=\u001b[0m \u001b[0mnp\u001b[0m\u001b[0;34m.\u001b[0m\u001b[0mlib\u001b[0m\u001b[0;34m.\u001b[0m\u001b[0m_datasource\u001b[0m\u001b[0;34m.\u001b[0m\u001b[0mopen\u001b[0m\u001b[0;34m(\u001b[0m\u001b[0mfname\u001b[0m\u001b[0;34m,\u001b[0m \u001b[0;34m'rt'\u001b[0m\u001b[0;34m,\u001b[0m \u001b[0mencoding\u001b[0m\u001b[0;34m=\u001b[0m\u001b[0mencoding\u001b[0m\u001b[0;34m)\u001b[0m\u001b[0;34m\u001b[0m\u001b[0;34m\u001b[0m\u001b[0m\n\u001b[0m\u001b[1;32m    963\u001b[0m             \u001b[0mfencoding\u001b[0m \u001b[0;34m=\u001b[0m \u001b[0mgetattr\u001b[0m\u001b[0;34m(\u001b[0m\u001b[0mfh\u001b[0m\u001b[0;34m,\u001b[0m \u001b[0;34m'encoding'\u001b[0m\u001b[0;34m,\u001b[0m \u001b[0;34m'latin1'\u001b[0m\u001b[0;34m)\u001b[0m\u001b[0;34m\u001b[0m\u001b[0;34m\u001b[0m\u001b[0m\n\u001b[1;32m    964\u001b[0m             \u001b[0mfh\u001b[0m \u001b[0;34m=\u001b[0m \u001b[0miter\u001b[0m\u001b[0;34m(\u001b[0m\u001b[0mfh\u001b[0m\u001b[0;34m)\u001b[0m\u001b[0;34m\u001b[0m\u001b[0;34m\u001b[0m\u001b[0m\n",
      "\u001b[0;32m~/anaconda3/envs/stefano_env/lib/python3.7/site-packages/numpy/lib/_datasource.py\u001b[0m in \u001b[0;36mopen\u001b[0;34m(path, mode, destpath, encoding, newline)\u001b[0m\n\u001b[1;32m    264\u001b[0m \u001b[0;34m\u001b[0m\u001b[0m\n\u001b[1;32m    265\u001b[0m     \u001b[0mds\u001b[0m \u001b[0;34m=\u001b[0m \u001b[0mDataSource\u001b[0m\u001b[0;34m(\u001b[0m\u001b[0mdestpath\u001b[0m\u001b[0;34m)\u001b[0m\u001b[0;34m\u001b[0m\u001b[0;34m\u001b[0m\u001b[0m\n\u001b[0;32m--> 266\u001b[0;31m     \u001b[0;32mreturn\u001b[0m \u001b[0mds\u001b[0m\u001b[0;34m.\u001b[0m\u001b[0mopen\u001b[0m\u001b[0;34m(\u001b[0m\u001b[0mpath\u001b[0m\u001b[0;34m,\u001b[0m \u001b[0mmode\u001b[0m\u001b[0;34m,\u001b[0m \u001b[0mencoding\u001b[0m\u001b[0;34m=\u001b[0m\u001b[0mencoding\u001b[0m\u001b[0;34m,\u001b[0m \u001b[0mnewline\u001b[0m\u001b[0;34m=\u001b[0m\u001b[0mnewline\u001b[0m\u001b[0;34m)\u001b[0m\u001b[0;34m\u001b[0m\u001b[0;34m\u001b[0m\u001b[0m\n\u001b[0m\u001b[1;32m    267\u001b[0m \u001b[0;34m\u001b[0m\u001b[0m\n\u001b[1;32m    268\u001b[0m \u001b[0;34m\u001b[0m\u001b[0m\n",
      "\u001b[0;32m~/anaconda3/envs/stefano_env/lib/python3.7/site-packages/numpy/lib/_datasource.py\u001b[0m in \u001b[0;36mopen\u001b[0;34m(self, path, mode, encoding, newline)\u001b[0m\n\u001b[1;32m    622\u001b[0m                                       encoding=encoding, newline=newline)\n\u001b[1;32m    623\u001b[0m         \u001b[0;32melse\u001b[0m\u001b[0;34m:\u001b[0m\u001b[0;34m\u001b[0m\u001b[0;34m\u001b[0m\u001b[0m\n\u001b[0;32m--> 624\u001b[0;31m             \u001b[0;32mraise\u001b[0m \u001b[0mIOError\u001b[0m\u001b[0;34m(\u001b[0m\u001b[0;34m\"%s not found.\"\u001b[0m \u001b[0;34m%\u001b[0m \u001b[0mpath\u001b[0m\u001b[0;34m)\u001b[0m\u001b[0;34m\u001b[0m\u001b[0;34m\u001b[0m\u001b[0m\n\u001b[0m\u001b[1;32m    625\u001b[0m \u001b[0;34m\u001b[0m\u001b[0m\n\u001b[1;32m    626\u001b[0m \u001b[0;34m\u001b[0m\u001b[0m\n",
      "\u001b[0;31mOSError\u001b[0m: ../datasets/GW_TD_dataset.dat not found."
     ]
    }
   ],
   "source": [
    "    #loading dataset and splitting\n",
    "theta_vector, amp_dataset, ph_dataset, frequencies = load_dataset(\"../datasets/GW_TD_dataset.dat\", shuffle=False, N_grid = None) #loading dataset\n",
    "\n",
    "train_frac = .8\n",
    "train_theta, test_theta, train_amp, test_amp = make_set_split(theta_vector, amp_dataset, train_frac, 1e-21)\n",
    "train_theta, test_theta, train_ph, test_ph   = make_set_split(theta_vector, ph_dataset, train_frac, 1.)"
   ]
  },
  {
   "cell_type": "code",
   "execution_count": null,
   "metadata": {},
   "outputs": [],
   "source": [
    "s = str(train_theta[0,1:])\n",
    "print(\"s = \", s)\n",
    "print(frequencies[1000], frequencies[1600])\n",
    "%matplotlib notebook\n",
    "for i in [100,1600]:#,1000,1500,2000]:\n",
    "    plt.plot(train_theta[:,0], train_amp[:,i], 'o', ms = 2, label = str(i))\n",
    "plt.legend()\n",
    "plt.show()"
   ]
  },
  {
   "cell_type": "code",
   "execution_count": null,
   "metadata": {},
   "outputs": [],
   "source": [
    "plt.figure()\n",
    "index_ = [1,7,24,51,32]\n",
    "for index in index_:\n",
    "    plt.plot(frequencies, train_amp[index,:], label = str(train_theta[index,0]))\n",
    "plt.legend()\n",
    "plt.show()"
   ]
  },
  {
   "cell_type": "code",
   "execution_count": null,
   "metadata": {},
   "outputs": [],
   "source": [
    "K_amp = 10\n",
    "ph_PCA = PCA_model()\n",
    "E = ph_PCA.fit_model(train_amp, K_amp)\n",
    "print(\"PCA eigenvalues: \", E)\n",
    "PCA_train_amp = ph_PCA.reduce_data(train_amp)\n",
    "PCA_test_amp = ph_PCA.reduce_data(test_amp)"
   ]
  },
  {
   "cell_type": "code",
   "execution_count": null,
   "metadata": {},
   "outputs": [],
   "source": [
    "plt.figure()\n",
    "plt.title(\"PCA components vs q\")\n",
    "for i in range(3):\n",
    "    plt.plot(train_theta[:,0], PCA_train_amp[:,i], 'o', ms = 2, label = str(i))\n",
    "plt.legend()\n",
    "plt.show()"
   ]
  },
  {
   "cell_type": "code",
   "execution_count": null,
   "metadata": {},
   "outputs": [],
   "source": [
    "plt.figure()\n",
    "plt.title(\"PCA components vs s1\")\n",
    "for i in range(4):\n",
    "    #plt.plot(frequencies, ph_PCA.get_V_matrix()[:,i], label= str(i))\n",
    "    plt.plot(train_theta[:,1], PCA_train_amp[:,i], 'o', ms = 2, label = str(i))\n",
    "plt.legend()\n",
    "plt.show()"
   ]
  },
  {
   "cell_type": "code",
   "execution_count": null,
   "metadata": {},
   "outputs": [],
   "source": [
    "#computing mismatches\n",
    "rec_test_amp = ph_PCA.reconstruct_data(np.multiply(PCA_test_amp,max_amp))\n",
    "F = compute_mismatch(test_amp, test_ph, rec_test_amp, test_ph)\n",
    "print(\"Avg mismatch: \", np.mean(F))"
   ]
  },
  {
   "cell_type": "markdown",
   "metadata": {},
   "source": [
    "Checking if it's all right with the waves"
   ]
  },
  {
   "cell_type": "code",
   "execution_count": null,
   "metadata": {},
   "outputs": [],
   "source": [
    "#choosing wafeform to compare\n",
    "indices = 9\n",
    "print(\"Waveform chosen: \", train_theta[indices,:])"
   ]
  },
  {
   "cell_type": "code",
   "execution_count": null,
   "metadata": {},
   "outputs": [],
   "source": [
    "print(\"Generating wave with: \", train_theta[indices,:])\n",
    "f_high = 1000; f_step = 5e-2; f_low = 20; d = 1.\n",
    "m2 = 10.\n",
    "m1 = train_theta[indices,0]*m2\n",
    "spin1z = train_theta[indices,1]\n",
    "spin2z = train_theta[indices,2]\n",
    "LALpars = lal.CreateDict()\n",
    "approx = lalsim.SimInspiralGetApproximantFromString(\"IMRPhenomPv2\")\n",
    "\n",
    "hptilde, hctilde = lalsim.SimInspiralChooseFDWaveform( #where is its definition and documentation????\n",
    "    m1*lalsim.lal.MSUN_SI, #m1\n",
    "    m2*lalsim.lal.MSUN_SI, #m2\n",
    "    0, 0, spin1z, #spin vector 1\n",
    "    0, 0, spin2z, #spin vector 2\n",
    "    d*1e6*lalsim.lal.PC_SI, #distance to source\n",
    "    0, #inclination\n",
    "    0, #something I don't know\n",
    "    0, #longAscNodes\n",
    "    0, #eccentricity\n",
    "    0, #meanPerAno\n",
    "    f_step, # frequency incremental step\n",
    "    f_low, # lowest value of frequency\n",
    "    f_high, # highest value of frequency\n",
    "    f_low, #some reference value of frequency (??)\n",
    "    LALpars, #some lal dictionary\n",
    "    approx #approx method for the model\n",
    "    )\n",
    "K = int((f_high-f_low)/f_step)\n",
    "full_frequencies = np.arange(f_low, f_high, f_step)\n",
    "h = np.array(hptilde.data.data)+1j*np.array(hctilde.data.data)\n",
    "temp_amp = (np.abs(h)[int(f_low/f_step):int(f_high/f_step)].real)\n",
    "temp_ph = (np.unwrap(np.angle(h))[int(f_low/f_step):int(f_high/f_step)].real)\n",
    "temp_ph = temp_ph - temp_ph[0]\n",
    "h = h[int(f_low/f_step):int(f_high/f_step)]\n",
    "(index,) = np.where(temp_amp/temp_amp[0] < 5e-3)\n",
    "if len(index) >0:\n",
    "    temp_ph[index] = temp_ph[index[0]-1]"
   ]
  },
  {
   "cell_type": "code",
   "execution_count": null,
   "metadata": {},
   "outputs": [],
   "source": [
    "print((1700-f_low)/f_step, h.shape)\n",
    "print(temp_amp.shape)\n",
    "plt.figure()\n",
    "#plt.plot(full_frequencies, h.real, 'o', ms = 1)\n",
    "plt.plot(full_frequencies, 1e21*temp_amp, 'o', ms = 1)\n",
    "plt.plot(frequencies, train_amp[indices,:],'o',ms = 1)\n",
    "plt.xscale(\"log\")\n",
    "plt.show()"
   ]
  },
  {
   "cell_type": "code",
   "execution_count": null,
   "metadata": {},
   "outputs": [],
   "source": [
    "plt.figure()\n",
    "\n",
    "new_ph = np.interp(full_frequencies, frequencies, train_ph[indices,:])\n",
    "new_amp = np.interp(full_frequencies, frequencies, train_amp[indices,:])\n",
    "\n",
    "#plt.plot(frequencies, train_amp[indices,:]*np.exp(1j*train_ph[indices,:]), 'o', ms = 2)\n",
    "plt.plot(full_frequencies, new_amp*np.exp(1j*new_ph), 'o', ms = 1,label = \"rec\" )\n",
    "plt.plot(full_frequencies, 1e21*temp_amp*np.exp(1j*temp_ph), 'o', ms = 1, label = \"true\")\n",
    "plt.legend()\n",
    "plt.xscale(\"log\")\n",
    "plt.show()"
   ]
  },
  {
   "cell_type": "code",
   "execution_count": null,
   "metadata": {},
   "outputs": [],
   "source": [
    "#computing mismatch\n",
    "print(\"Mismatch: \", compute_mismatch(new_amp,new_ph, temp_amp, temp_ph)[0])"
   ]
  },
  {
   "cell_type": "code",
   "execution_count": null,
   "metadata": {},
   "outputs": [],
   "source": []
  }
 ],
 "metadata": {
  "kernelspec": {
   "display_name": "Python 3",
   "language": "python",
   "name": "python3"
  },
  "language_info": {
   "codemirror_mode": {
    "name": "ipython",
    "version": 3
   },
   "file_extension": ".py",
   "mimetype": "text/x-python",
   "name": "python",
   "nbconvert_exporter": "python",
   "pygments_lexer": "ipython3",
   "version": "3.7.3"
  }
 },
 "nbformat": 4,
 "nbformat_minor": 2
}
